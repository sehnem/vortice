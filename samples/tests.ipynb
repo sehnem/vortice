{
 "cells": [
  {
   "cell_type": "code",
   "execution_count": 4,
   "metadata": {},
   "outputs": [],
   "source": [
    "from vortice.config_global import SiteConfig, GhgDataset\n",
    "from vortice.config_instruments import Anemometer3DConfig, GasAnalyzerConfig\n",
    "from vortice.config_data_fields import (\n",
    "    Wind3dUField,\n",
    "    Wind3dVField,\n",
    "    Wind3dWField,\n",
    "    PressureField,\n",
    "    TemperatureField,\n",
    "    GhgDiagnosticField,\n",
    "    H2OField,\n",
    "    CO2Field,\n",
    "    CH4Field,\n",
    "    CH4MoleField,\n",
    ")\n",
    "\n",
    "cachoeira = SiteConfig(\n",
    "    name=\"CS\", lat=-30.446667, lon=-53.194444, alt=73.0, canopy_height=0.1\n",
    ")\n",
    "\n",
    "csat_3d = Anemometer3DConfig(\n",
    "    name=\"CSAT3D\", model=\"CSAT3_1\", height=3.0, north_offset=90.0\n",
    ")\n",
    "\n",
    "li_7500a = GasAnalyzerConfig(name=\"LI7500A\", model=\"li7500a\")\n",
    "li_7700 = GasAnalyzerConfig(name=\"LI7700\", model=\"li7700\")\n",
    "\n",
    "fields = [\n",
    "    Wind3dUField(name=\"u\", instrument=csat_3d, unit=\"m/s\"),\n",
    "    Wind3dVField(name=\"v\", instrument=csat_3d, unit=\"m/s\"),\n",
    "    Wind3dWField(name=\"w\", instrument=csat_3d, unit=\"m/s\"),\n",
    "    TemperatureField(name=\"TS\", instrument=csat_3d, unit=\"c\"),\n",
    "    GhgDiagnosticField(name=\"diag_CSAT\", instrument=csat_3d),\n",
    "    GhgDiagnosticField(name=\"Diag_LI7500A\", instrument=li_7500a),\n",
    "    PressureField(name=\"Pressao_LI7500A\", instrument=li_7500a, unit=\"kPa\"),\n",
    "    TemperatureField(name=\"Temp_LI7500A\", instrument=li_7500a, unit=\"c\"),\n",
    "    H2OField(name=\"H2O\", instrument=li_7500a, unit=\"mmol/m^3\"),\n",
    "    CO2Field(name=\"CO2\", instrument=li_7500a, unit=\"mmol/m^3\"),\n",
    "    GhgDiagnosticField(name=\"Diag_LI7700\", instrument=li_7700),\n",
    "    PressureField(name=\"Pressao_LI7700\", instrument=li_7700, unit=\"kPa\"),\n",
    "    TemperatureField(name=\"Temp_LI7700\", instrument=li_7700, unit=\"c\"),\n",
    "    CH4Field(name=\"CH4\", instrument=li_7700, unit=\"mmol/m^3\"),\n",
    "    CH4MoleField(name=\"CH4_mole_fraction\", instrument=li_7700, unit=\"umol/mol\"),\n",
    "    GhgDiagnosticField(name=\"RSSI\", instrument=li_7700),\n",
    "    GhgDiagnosticField(name=\"Drop_rate\", instrument=li_7700),\n",
    "]\n",
    "\n",
    "CS130 = GhgDataset(\n",
    "    name=\"CS130\",\n",
    "    site=cachoeira,\n",
    "    columns=fields,\n",
    "    time_column=\"TIMESTAMP\",\n",
    "    tz=\"UTC\",\n",
    "    freq=10,\n",
    ")"
   ]
  },
  {
   "cell_type": "code",
   "execution_count": 5,
   "metadata": {},
   "outputs": [],
   "source": [
    "from vortice.config import FluxDataFrame\n",
    "import duckdb\n",
    "\n",
    "con = duckdb.connect(database=\":memory:\", read_only=False)\n",
    "\n",
    "query = \"\"\"\n",
    "SELECT * EXCLUDE(month, year, site) \n",
    "FROM parquet_scan('../../dados_lumet/site=CS130/**/*.parquet', hive_partitioning = true) \n",
    "WHERE year = 2023 \n",
    "AND month = 12 \n",
    "AND TIMESTAMP > '2023-12-01 12:00:00' \n",
    "AND TIMESTAMP <= '2023-12-01 13:00:00' \n",
    "ORDER BY TIMESTAMP;\n",
    "\"\"\"\n",
    "result = con.execute(query)\n",
    "\n",
    "df_hf = (\n",
    "    result.pl()\n",
    "    .sort(\"TIMESTAMP\")\n",
    "    .upsample(time_column=\"TIMESTAMP\", every=\"100ms\", maintain_order=True)\n",
    ")"
   ]
  },
  {
   "cell_type": "code",
   "execution_count": 6,
   "metadata": {},
   "outputs": [],
   "source": [
    "df_hf.flux.config(CS130)"
   ]
  }
 ],
 "metadata": {
  "kernelspec": {
   "display_name": "venv",
   "language": "python",
   "name": "python3"
  },
  "language_info": {
   "codemirror_mode": {
    "name": "ipython",
    "version": 3
   },
   "file_extension": ".py",
   "mimetype": "text/x-python",
   "name": "python",
   "nbconvert_exporter": "python",
   "pygments_lexer": "ipython3",
   "version": "3.12.3"
  }
 },
 "nbformat": 4,
 "nbformat_minor": 2
}
