{
 "cells": [
  {
   "cell_type": "code",
   "execution_count": 4,
   "metadata": {},
   "outputs": [],
   "source": [
    "from vortice.config_global import SiteConfig, GhgDataset\n",
    "from vortice.config_instruments import Anemometer3DConfig, GasAnalyzerConfig\n",
    "from vortice.config_data_fields import Wind3dUField, Wind3dVField, Wind3dWField, PressureField, TemperatureField, GhgDiagnosticField\n",
    "\n",
    "cachoeira = SiteConfig(\n",
    "    name=\"CS\", lat=-30.446667, lon=-53.194444, alt=73.0, canopy_height=0.1\n",
    ")\n",
    "\n",
    "csat_3d = Anemometer3DConfig(\n",
    "    name=\"CSAT3D\", model=\"CSAT3_1\", height=3.0, north_offset=90.0\n",
    ")\n",
    "\n",
    "li_7500a = GasAnalyzerConfig(name=\"LI7500A\", model=\"li7500a\")\n",
    "li_7700 = GasAnalyzerConfig(name=\"LI7700\", model=\"li7700\")\n",
    "\n",
    "fields = [\n",
    "    Wind3dUField(name=\"u\", instrument=csat_3d, unit=\"m/s\"),\n",
    "    Wind3dVField(name=\"v\", instrument=csat_3d, unit=\"m/s\"),\n",
    "    Wind3dWField(name=\"w\", instrument=csat_3d, unit=\"m/s\"),\n",
    "    TemperatureField(name=\"TS\", instrument=csat_3d, unit=\"c\"),\n",
    "    GhgDiagnosticField(name=\"diag_CSAT\", instrument=csat_3d),\n",
    "    GhgDiagnosticField(name=\"Diag_LI7500A\", instrument=li_7500a),\n",
    "    PressureField(name=\"Pressao_LI7500A\", instrument=li_7500a, unit=\"kPa\"),\n",
    "    TemperatureField(name=\"Temp_LI7500A\", instrument=li_7500a, unit=\"c\"),\n",
    "    GhgDiagnosticField(name=\"Diag_LI7700\", instrument=li_7700),\n",
    "    PressureField(name=\"Pressao_LI7700\", instrument=li_7700, unit=\"kPa\"),\n",
    "    TemperatureField(name=\"Temp_LI7700\", instrument=li_7700, unit=\"c\"),\n",
    "    GhgDiagnosticField(name=\"RSSI\", instrument=li_7700),\n",
    "    GhgDiagnosticField(name=\"Drop_rate\", instrument=li_7700),\n",
    "\n",
    "]\n",
    "\n",
    "CS130 = GhgDataset(name=\"CS130\", site=cachoeira, columns=fields, time_column=\"TIMESTAMP\", tz=\"UTC\", freq=10)"
   ]
  },
  {
   "cell_type": "code",
   "execution_count": 5,
   "metadata": {},
   "outputs": [],
   "source": [
    "from vortice.config import FluxDataFrame\n",
    "import duckdb\n",
    "\n",
    "con = duckdb.connect(database=\":memory:\", read_only=False)\n",
    "\n",
    "query = \"SELECT * exclude(month, year, site) FROM parquet_scan('../../dados_lumet/site=CS130/**/*.parquet', hive_partitioning = true) WHERE year=2023 AND month=12 AND TIMESTAMP>'2023-12-01 12:00:00' AND TIMESTAMP<='2023-12-01 13:00:00' order by TIMESTAMP;\"\n",
    "result = con.execute(query)\n",
    "\n",
    "df_hf = (\n",
    "    result.pl()\n",
    "    .sort(\"TIMESTAMP\")\n",
    "    .upsample(time_column=\"TIMESTAMP\", every=\"100ms\", maintain_order=True)\n",
    ")"
   ]
  },
  {
   "cell_type": "code",
   "execution_count": 6,
   "metadata": {},
   "outputs": [
    {
     "name": "stderr",
     "output_type": "stream",
     "text": [
      "WARNING:root:Column 'CO2' not found in metadata.\n",
      "WARNING:root:Column 'H2O' not found in metadata.\n",
      "WARNING:root:Column 'CH4' not found in metadata.\n",
      "WARNING:root:Column 'CH4_mole_fraction' not found in metadata.\n"
     ]
    }
   ],
   "source": [
    "df_hf.flux.config(CS130)"
   ]
  }
 ],
 "metadata": {
  "kernelspec": {
   "display_name": "venv",
   "language": "python",
   "name": "python3"
  },
  "language_info": {
   "codemirror_mode": {
    "name": "ipython",
    "version": 3
   },
   "file_extension": ".py",
   "mimetype": "text/x-python",
   "name": "python",
   "nbconvert_exporter": "python",
   "pygments_lexer": "ipython3",
   "version": "3.12.3"
  }
 },
 "nbformat": 4,
 "nbformat_minor": 2
}
