{
 "cells": [
  {
   "cell_type": "code",
   "execution_count": 1,
   "metadata": {},
   "outputs": [],
   "source": [
    "from vortice.config_def import SiteConfig, GhgDataset, GhgDataField, Anemometer3DConfig, GasAnalyzerConfig\n",
    "\n",
    "\n",
    "cachoeira = SiteConfig(\n",
    "    name=\"CS\", lat=-30.446667, lon=-53.194444, alt=73.0, canopy_height=0.1\n",
    ")\n",
    "\n",
    "csat_3d = Anemometer3DConfig(\n",
    "    name=\"CSAT3D\", model=\"CSAT3_1\", height=3.0, north_offset=90.0\n",
    ")\n",
    "\n",
    "li_7500a = GasAnalyzerConfig(name=\"LI7500A\", model=\"li7500a\")\n",
    "li_7700 = GasAnalyzerConfig(name=\"LI7700\", model=\"li7700\")\n",
    "\n",
    "fields = [\n",
    "    GhgDataField(name=\"u\", variable=\"wind_u\", unit=\"m/s\", instrument=csat_3d),\n",
    "    GhgDataField(name=\"v\", variable=\"wind_v\", unit=\"m/s\", instrument=csat_3d),\n",
    "    GhgDataField(name=\"w\", variable=\"wind_w\", unit=\"m/s\", instrument=csat_3d),\n",
    "    GhgDataField(name=\"TS\", variable=\"temperature\", unit=\"C\", instrument=csat_3d),\n",
    "    GhgDataField(name=\"diag_CSAT\", variable=\"diagnostic\", instrument=csat_3d),\n",
    "    GhgDataField(name=\"CO2\", variable=\"co2\", unit=\"mmol/m^3\", instrument=li_7500a),\n",
    "    GhgDataField(name=\"H2O\", variable=\"h2o\", unit=\"mmol/m^3\", instrument=li_7500a),\n",
    "    GhgDataField(name=\"Diag_LI7500A\", variable=\"diagnostic\", instrument=li_7500a),\n",
    "    GhgDataField(name=\"Temp_LI7500A\", variable=\"temperature\", unit=\"C\", instrument=li_7500a),\n",
    "    GhgDataField(name=\"Pressao_LI7500A\", variable=\"pressure\", unit=\"kPa\", instrument=li_7500a),\n",
    "    GhgDataField(name=\"Diag_LI7700\", variable=\"diagnostic\", instrument=li_7700),\n",
    "    GhgDataField(name=\"CH4\", variable=\"ch4\", unit=\"mmol/m^3\", instrument=li_7700),\n",
    "    GhgDataField(name=\"CH4_mole_fraction\", variable=\"ch4_frac\", instrument=li_7700),\n",
    "    GhgDataField(name=\"Temp_LI7700\", variable=\"temperature\", unit=\"C\", instrument=li_7700),\n",
    "    GhgDataField(name=\"Pressao_LI7700\", variable=\"pressure\", unit=\"kPa\", instrument=li_7700),\n",
    "    GhgDataField(name=\"RSSI\", variable=\"diagnostic\", instrument=li_7700),\n",
    "    GhgDataField(name=\"Drop_rate\", variable=\"diagnostic\", instrument=li_7700),\n",
    "]\n",
    "\n",
    "CS130 = GhgDataset(name=\"CS130\", site=cachoeira, columns=fields, time_column=\"TIMESTAMP\", tz=\"UTC\", freq=10)"
   ]
  },
  {
   "cell_type": "code",
   "execution_count": 2,
   "metadata": {},
   "outputs": [],
   "source": [
    "from vortice.config import FluxDataFrame\n",
    "import duckdb\n",
    "\n",
    "con = duckdb.connect(database=\":memory:\", read_only=False)\n",
    "\n",
    "query = \"SELECT * exclude(month, year, site) FROM parquet_scan('../../dados_lumet/site=CS130/**/*.parquet', hive_partitioning = true) WHERE year=2023 AND month=12 AND TIMESTAMP>'2023-12-01 12:00:00' AND TIMESTAMP<='2023-12-01 13:00:00' order by TIMESTAMP;\"\n",
    "result = con.execute(query)\n",
    "\n",
    "df_hf = (\n",
    "    result.pl()\n",
    "    .sort(\"TIMESTAMP\")\n",
    "    .upsample(time_column=\"TIMESTAMP\", every=\"100ms\", maintain_order=True)\n",
    ")"
   ]
  },
  {
   "cell_type": "code",
   "execution_count": 3,
   "metadata": {},
   "outputs": [],
   "source": [
    "df_hf.flux.config(CS130)"
   ]
  }
 ],
 "metadata": {
  "kernelspec": {
   "display_name": "venv",
   "language": "python",
   "name": "python3"
  },
  "language_info": {
   "codemirror_mode": {
    "name": "ipython",
    "version": 3
   },
   "file_extension": ".py",
   "mimetype": "text/x-python",
   "name": "python",
   "nbconvert_exporter": "python",
   "pygments_lexer": "ipython3",
   "version": "3.12.3"
  }
 },
 "nbformat": 4,
 "nbformat_minor": 2
}
